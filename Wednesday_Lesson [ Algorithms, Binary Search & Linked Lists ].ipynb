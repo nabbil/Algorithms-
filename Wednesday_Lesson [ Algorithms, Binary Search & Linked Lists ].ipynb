{
 "cells": [
  {
   "cell_type": "markdown",
   "metadata": {},
   "source": [
    "# Algorithms, Binary Search & Linked Lists"
   ]
  },
  {
   "cell_type": "markdown",
   "metadata": {},
   "source": [
    "## Tasks Today:\n",
    "\n",
    "1) <b>Regular Expressions - <i>Covered Thursday</i></b> <br>\n",
    "2) <b>In-Place Algorithms</b> <br>\n",
    " &nbsp;&nbsp;&nbsp;&nbsp; a) Syntax <br>\n",
    " &nbsp;&nbsp;&nbsp;&nbsp; a) Out of Place Algorithm <br>\n",
    " &nbsp;&nbsp;&nbsp;&nbsp; b) In-Class Exercise #1 <br>\n",
    "3) <b>Two Pointers</b> <br>\n",
    "4) <b>Linked Lists</b> <br>\n",
    "5) <b>Merge Sort</b> <br>\n",
    " &nbsp;&nbsp;&nbsp;&nbsp; a) Video on Algorithms <br>\n",
    " &nbsp;&nbsp;&nbsp;&nbsp; b) How it Works <br>\n",
    "6) <b>Exercises</b> <br>\n",
    " &nbsp;&nbsp;&nbsp;&nbsp; a) Exercise #1 - Write Insertion Sort <br>\n",
    " &nbsp;&nbsp;&nbsp;&nbsp; b) Exercise #2 - Reverse a List in Place Using an In-Place Algorithm <br>\n",
    " &nbsp;&nbsp;&nbsp;&nbsp; c) Exercise #3 - Find Distinct Words <br>"
   ]
  },
  {
   "cell_type": "markdown",
   "metadata": {},
   "source": [
    "## In-Place Algorithms\n",
    "\n",
    "AKA: SWAP\n",
    "\n",
    "[ This is what the sorting function in Python is based off of ]\n",
    "\n",
    "we will take on value and replace it with another value using inplace swap,\n",
    "\n",
    "there is also an out of place swap "
   ]
  },
  {
   "cell_type": "markdown",
   "metadata": {},
   "source": [
    "#### Syntax"
   ]
  },
  {
   "cell_type": "code",
   "execution_count": null,
   "metadata": {},
   "outputs": [],
   "source": [
    "# var[i], var[i + 1] = var[i + 1], var[i]\n",
    "# sometimes called a swap\n",
    "\n",
    "def swap(alist,x,y,z):\n",
    "    '''The swap function requires alist to be a list and x,y,z to be indexes for the list'''\n",
    "    print(\"List before the swap \",alist)\n",
    "    alist[x],alist[y],alist[z]= alist[z],alist[y],alist[x]\n",
    "    return alist\n",
    "\n",
    "my_list=[1,2,3,4]\n",
    "\n",
    "swap(my_list,0,2,3)"
   ]
  },
  {
   "cell_type": "markdown",
   "metadata": {},
   "source": [
    "#### Out of Place Algorithm"
   ]
  },
  {
   "cell_type": "code",
   "execution_count": null,
   "metadata": {},
   "outputs": [],
   "source": [
    "# not swapping, but rather reversing completely\n",
    "newlist=[1,2,3,4]\n",
    "newlist[::-1]"
   ]
  },
  {
   "cell_type": "markdown",
   "metadata": {},
   "source": [
    "#### In-Class Exercise #1 <br>\n",
    "<p>Write a function that takes in four arguments (list, index1, index2, index3), and swaps those three positions in the list passed in.</p>"
   ]
  },
  {
   "cell_type": "code",
   "execution_count": null,
   "metadata": {},
   "outputs": [],
   "source": [
    "l_1 = [10, 4, 3, 8, 7, 2, 6]\n",
    "\n",
    "\n",
    "def swap2(listz,a,b,c):\n",
    "    print(\"This is the list before swap\", listz)\n",
    "    listz[a+1],listz[b+1],listz[c+1]= listz[a-1],listz[b-1],listz[c-1]\n",
    "    return \"This is the List after swap\",listz\n",
    "swap2(l_1,0,3,5)\n"
   ]
  },
  {
   "cell_type": "markdown",
   "metadata": {},
   "source": [
    "## Two Pointers\n",
    "\n",
    "Pointers allow you to poain a specific value to a variable \n",
    "\n",
    "assigns varible to another value, we have been pointng to values inside of memory\n",
    "\n",
    "in C or C++ you would have to use the actual word pointer and set its value to another vaiable. ex. pointerX=pointerY\n",
    "\n",
    "in python we can get away with it without having to say pointer do this or pointer do that.\n",
    "\n",
    "\n",
    "\n"
   ]
  },
  {
   "cell_type": "markdown",
   "metadata": {},
   "source": [
    "#### Syntax"
   ]
  },
  {
   "cell_type": "code",
   "execution_count": null,
   "metadata": {},
   "outputs": [],
   "source": [
    "# alist[left], alist[right] = alist[right], alist[left]\n",
    "# use two pointers to swap, uses while loop\n",
    "\n",
    "def twoPointers(alist):\n",
    "    #first pointer \n",
    "    left=0\n",
    "    #second pointer\n",
    "    right=len(alist)-1\n",
    "    \n",
    "    while left <= right:\n",
    "        alist[left],alist[right]= alist[right],alist[left]\n",
    "        left+=1\n",
    "        right-=1\n",
    "    return alist\n",
    "print(l_1)\n",
    "twoPointers(l_1)\n",
    "\n",
    "\n"
   ]
  },
  {
   "cell_type": "markdown",
   "metadata": {},
   "source": [
    "# Linked List (Data Structure)\n",
    "\n",
    "A linked list is created by using the node class. We create a Node object and create another class to use this node object. We pass the appropriate values thorugh the node object to point the to the next data elements.\n",
    "\n",
    "There are some advantages and disadvantages with this data structure. **Advantages** Linked Lists can save memory because they can be flexibile with memory management which saves memory. **Disadvantages** Finding or adding to the list requires traversing the entire list."
   ]
  },
  {
   "cell_type": "code",
   "execution_count": null,
   "metadata": {},
   "outputs": [],
   "source": [
    "class Node():\n",
    "    def __init__(self, dataval = None):\n",
    "        self.dataval= dataval\n",
    "        self.nextval= None\n",
    "        \n",
    "class SinlgleyLinkedList():\n",
    "    def __init__(self):\n",
    "        self.headval= None\n",
    "        \n",
    "    def listPrit(self):\n",
    "        printval= self.headval\n",
    "        while printval is not None:\n",
    "            print(printval.dataval)\n",
    "            printval=printval.nextval\n",
    "            \n",
    "list1= SinlgleyLinkedList()\n",
    "list1.headval= Node(\"Monday\")\n",
    "\n",
    "day2= Node(\"Tuesday\")\n",
    "day3= Node(\"Wednesday\")\n",
    "day4= Node(\"Thursday\")\n",
    "day5= Node(\"Friday\")\n",
    "day6= Node(\"Saturday\")\n",
    "day7= Node(\"Sunday\")\n",
    "\n",
    "\n",
    "\n",
    "# Link first node ot the second node\n",
    "\n",
    "list1.headval.nextval = day2\n",
    "\n",
    "# Link second Node to the third Node\n",
    "\n",
    "day2.nextval= day3\n",
    "\n",
    "day3.nextval= day4\n",
    "\n",
    "day4.nextval= day5\n",
    "\n",
    "day5.nextval= day6\n",
    "\n",
    "day6.nextval= day7\n",
    "\n",
    "list1.listPrit()\n",
    "\n"
   ]
  },
  {
   "cell_type": "markdown",
   "metadata": {},
   "source": [
    "## Merge Sort"
   ]
  },
  {
   "cell_type": "markdown",
   "metadata": {},
   "source": [
    "#### Video of Algorithms <br>\n",
    "<p>Watch the video about algorithms.</p>\n",
    "\n",
    "https://www.youtube.com/watch?v=Q9HjeFD62Uk\n",
    "\n",
    "https://www.youtube.com/watch?v=kPRA0W1kECg\n",
    "\n",
    "https://www.youtube.com/watch?v=ZZuD6iUe3Pc"
   ]
  },
  {
   "cell_type": "markdown",
   "metadata": {},
   "source": [
    "#### How it Works"
   ]
  },
  {
   "cell_type": "code",
   "execution_count": null,
   "metadata": {},
   "outputs": [],
   "source": [
    "# Step 1: Split everything into it's own group\n",
    "# Step 2: From left to right merge two groups together\n",
    "# Step 3: While merging, place each item in the correct position within the merged group\n",
    "# Step 4: Continue steps 3-4 until one group is left\n",
    "\n",
    "from random import randint\n",
    "# used to generate a random list of 10 numbers from 0 to 100\n",
    "nums = [randint(0, 100) for i in range(11)]\n",
    "# write merge sort\n",
    "\n",
    "def mergeSort(alist):\n",
    "    print(\"Splitting List\",alist)\n",
    "    if len(alist)>1:\n",
    "        mid= len(alist)//2 #Floor division becuase you cnat have a flaot as an index\n",
    "        lefthalf= alist[:mid]\n",
    "        righthalf= alist[mid:]\n",
    "        \n",
    "        mergeSort(lefthalf)\n",
    "        mergeSort(righthalf)\n",
    "        \n",
    "        i=0\n",
    "        j=0\n",
    "        k=0\n",
    "        \n",
    "        while i < len(lefthalf) and j < len(righthalf):\n",
    "            if lefthalf[i] < righthalf[j]:\n",
    "                alist[k]=lefthalf[i]\n",
    "                i=i+1\n",
    "            else:\n",
    "                alist[k] = righthalf[j]\n",
    "                j=j+1\n",
    "            k=k+1\n",
    "            \n",
    "        while i < len(lefthalf):\n",
    "            alist[k] = lefthalf[i]\n",
    "            i= i+1\n",
    "            k=k+1\n",
    "            while j <len(righthalf):\n",
    "                alist[k]= righthalf[j]\n",
    "                j=j+1\n",
    "                k=k+1\n",
    "    print(\"Merging List Here... \", alist)\n",
    "    \n",
    "    \n",
    "mergeSort(nums)"
   ]
  },
  {
   "cell_type": "markdown",
   "metadata": {},
   "source": [
    "# Exercises"
   ]
  },
  {
   "cell_type": "markdown",
   "metadata": {},
   "source": [
    "### Exercise #1 <br>\n",
    "<p>Write a function that performs insertion sort on the list below.</p>"
   ]
  },
  {
   "cell_type": "code",
   "execution_count": null,
   "metadata": {},
   "outputs": [],
   "source": [
    "from random import randint\n",
    "# used to generate a random list of 10 numbers from 0 to 100\n",
    "nums = [randint(0, 100) for i in range(10)]\n",
    "# write insertion sort\n",
    "\n",
    "# step 1: loop forward to end\n",
    "# step 2: check current index is lower than previous\n",
    "# step3: if so, loop backwards\n",
    "# step4: check if current index is less than previous again\n",
    "# step 5: swap \n",
    "# step 6: if not, break\n",
    "\n",
    "\n",
    "\n",
    "def insertionSort(aList):\n",
    "    pass"
   ]
  },
  {
   "cell_type": "markdown",
   "metadata": {},
   "source": [
    "### Exercise #2 <br>\n",
    "<p>Reverse the list below in-place using an in-place algorithm.<br>For extra credit: Reverse the strings at the same time.</p>"
   ]
  },
  {
   "cell_type": "code",
   "execution_count": null,
   "metadata": {},
   "outputs": [],
   "source": [
    "words = ['This ' , 'is', 'a', 'sentance', '.']\n",
    "\n",
    "#Reverse the word and the list\n",
    "\n",
    "def reverse(alist,a,b,c,d):\n",
    "    '''The swap function requires alist to be a list and x,y,z to be indexes for the list'''\n",
    "    print(\"List before the swap \",alist)\n",
    "    alist[a],alist[d] = alist[d],alist[a]\n",
    "    alist[b],alist[c]= alist[c],alist[b]\n",
    "    \n",
    "    return(alist)\n",
    "\n",
    "reverse(words,0,1,3,4)\n",
    "\n"
   ]
  },
  {
   "cell_type": "markdown",
   "metadata": {},
   "source": [
    "### Exercise #3 <br>\n",
    "<p>Create a function that counts how many distinct words are in the string below, then outputs a dictionary with the words as the key and the value as the amount of times that word appears in the string.<br>Should output:<br>{'a': 5,<br>\n",
    " 'abstract': 1,<br>\n",
    " 'an': 3,<br>\n",
    " 'array': 2, ... etc...</p>"
   ]
  },
  {
   "cell_type": "code",
   "execution_count": 3,
   "metadata": {},
   "outputs": [
    {
     "name": "stdout",
     "output_type": "stream",
     "text": [
      "['In', 'computing,', 'a', 'hash', 'table', 'hash', 'map', 'is', 'a', 'data', 'structure', 'which', 'implements', 'an', 'associative', 'array', 'abstract', 'data', 'type,', 'a', 'structure', 'that', 'can', 'map', 'keys', 'to', 'values.', 'A', 'hash', 'table', 'uses', 'a', 'hash', 'function', 'to', 'compute', 'an', 'index', 'into', 'an', 'array', 'of', 'buckets', 'or', 'slots', 'from', 'which', 'the', 'desired', 'value', 'can', 'be', 'found']\n"
     ]
    }
   ],
   "source": [
    "a_text = 'In computing, a hash table hash map is a data structure which implements an associative array abstract data type, a structure that can map keys to values. A hash table uses a hash function to compute an index into an array of buckets or slots from which the desired value can be found'\n",
    "\n",
    "(a_text)    \n",
    "    \n",
    "seperate= a_text.split()\n",
    "\n",
    "print(seperate)\n",
    "\n",
    "def counting(alist,a):\n",
    "    "
   ]
  }
 ],
 "metadata": {
  "kernelspec": {
   "display_name": "Python 3",
   "language": "python",
   "name": "python3"
  },
  "language_info": {
   "codemirror_mode": {
    "name": "ipython",
    "version": 3
   },
   "file_extension": ".py",
   "mimetype": "text/x-python",
   "name": "python",
   "nbconvert_exporter": "python",
   "pygments_lexer": "ipython3",
   "version": "3.7.3"
  }
 },
 "nbformat": 4,
 "nbformat_minor": 2
}
